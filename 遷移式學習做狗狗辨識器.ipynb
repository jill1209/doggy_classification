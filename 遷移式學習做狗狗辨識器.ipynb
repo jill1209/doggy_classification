{
  "cells": [
    {
      "cell_type": "code",
      "execution_count": 1,
      "metadata": {
        "id": "QxfLzqrZ-zFI"
      },
      "outputs": [],
      "source": [
        "# APP 的名稱, 可自由更改\n",
        "title = \"狗狗辨識器\"\n",
        "# APP 的說明, 可自由更改\n",
        "description = \"請輸入一張狗狗照片, 我會告訴你這是什麼品種的狗!\"\n",
        "\n",
        "num_class = 4\n",
        "table_class_en2ch = {\n",
        "    \"Bichon\": \"比熊\",\n",
        "    \"Maltese\": \"馬爾濟斯\",\n",
        "    \"Poodle\": \"貴賓犬\",\n",
        "    \"Pomeranian\": \"博美\"\n",
        "}\n",
        "table_class_en2num = {\n",
        "    \"Bichon\": 0,\n",
        "    \"Maltese\": 1,\n",
        "    \"Poodle\": 2,\n",
        "    \"Pomeranian\": 3\n",
        "}\n",
        "table_class_num2en = {\n",
        "    0: \"Bichon\",\n",
        "    1: \"Maltese\",\n",
        "    2: \"Poodle\",\n",
        "    3: \"Pomeranian\"\n",
        "}"
      ]
    },
    {
      "cell_type": "code",
      "execution_count": 2,
      "metadata": {
        "colab": {
          "base_uri": "https://localhost:8080/"
        },
        "id": "vecVXcEeTDz2",
        "outputId": "ddafdc56-6ac4-4150-a85a-2dddb2b871fd"
      },
      "outputs": [
        {
          "output_type": "stream",
          "name": "stdout",
          "text": [
            "\u001b[2K     \u001b[90m━━━━━━━━━━━━━━━━━━━━━━━━━━━━━━━━━━━━━━━━\u001b[0m \u001b[32m12.2/12.2 MB\u001b[0m \u001b[31m31.3 MB/s\u001b[0m eta \u001b[36m0:00:00\u001b[0m\n",
            "\u001b[2K     \u001b[90m━━━━━━━━━━━━━━━━━━━━━━━━━━━━━━━━━━━━━━━━\u001b[0m \u001b[32m91.9/91.9 kB\u001b[0m \u001b[31m5.6 MB/s\u001b[0m eta \u001b[36m0:00:00\u001b[0m\n",
            "\u001b[?25h  Preparing metadata (setup.py) ... \u001b[?25l\u001b[?25hdone\n",
            "\u001b[2K     \u001b[90m━━━━━━━━━━━━━━━━━━━━━━━━━━━━━━━━━━━━━━━━\u001b[0m \u001b[32m314.4/314.4 kB\u001b[0m \u001b[31m14.6 MB/s\u001b[0m eta \u001b[36m0:00:00\u001b[0m\n",
            "\u001b[2K     \u001b[90m━━━━━━━━━━━━━━━━━━━━━━━━━━━━━━━━━━━━━━━━\u001b[0m \u001b[32m75.6/75.6 kB\u001b[0m \u001b[31m3.4 MB/s\u001b[0m eta \u001b[36m0:00:00\u001b[0m\n",
            "\u001b[2K     \u001b[90m━━━━━━━━━━━━━━━━━━━━━━━━━━━━━━━━━━━━━━━━\u001b[0m \u001b[32m141.1/141.1 kB\u001b[0m \u001b[31m1.6 MB/s\u001b[0m eta \u001b[36m0:00:00\u001b[0m\n",
            "\u001b[2K     \u001b[90m━━━━━━━━━━━━━━━━━━━━━━━━━━━━━━━━━━━━━━━━\u001b[0m \u001b[32m8.8/8.8 MB\u001b[0m \u001b[31m28.9 MB/s\u001b[0m eta \u001b[36m0:00:00\u001b[0m\n",
            "\u001b[2K     \u001b[90m━━━━━━━━━━━━━━━━━━━━━━━━━━━━━━━━━━━━━━━━\u001b[0m \u001b[32m47.2/47.2 kB\u001b[0m \u001b[31m3.7 MB/s\u001b[0m eta \u001b[36m0:00:00\u001b[0m\n",
            "\u001b[2K     \u001b[90m━━━━━━━━━━━━━━━━━━━━━━━━━━━━━━━━━━━━━━━━\u001b[0m \u001b[32m60.8/60.8 kB\u001b[0m \u001b[31m3.8 MB/s\u001b[0m eta \u001b[36m0:00:00\u001b[0m\n",
            "\u001b[2K     \u001b[90m━━━━━━━━━━━━━━━━━━━━━━━━━━━━━━━━━━━━━━━━\u001b[0m \u001b[32m129.9/129.9 kB\u001b[0m \u001b[31m6.5 MB/s\u001b[0m eta \u001b[36m0:00:00\u001b[0m\n",
            "\u001b[2K     \u001b[90m━━━━━━━━━━━━━━━━━━━━━━━━━━━━━━━━━━━━━━━━\u001b[0m \u001b[32m77.9/77.9 kB\u001b[0m \u001b[31m5.5 MB/s\u001b[0m eta \u001b[36m0:00:00\u001b[0m\n",
            "\u001b[2K     \u001b[90m━━━━━━━━━━━━━━━━━━━━━━━━━━━━━━━━━━━━━━━━\u001b[0m \u001b[32m58.3/58.3 kB\u001b[0m \u001b[31m4.0 MB/s\u001b[0m eta \u001b[36m0:00:00\u001b[0m\n",
            "\u001b[2K     \u001b[90m━━━━━━━━━━━━━━━━━━━━━━━━━━━━━━━━━━━━━━━━\u001b[0m \u001b[32m71.9/71.9 kB\u001b[0m \u001b[31m2.3 MB/s\u001b[0m eta \u001b[36m0:00:00\u001b[0m\n",
            "\u001b[?25h  Building wheel for ffmpy (setup.py) ... \u001b[?25l\u001b[?25hdone\n",
            "\u001b[31mERROR: pip's dependency resolver does not currently take into account all the packages that are installed. This behaviour is the source of the following dependency conflicts.\n",
            "spacy 3.7.4 requires typer<0.10.0,>=0.3.0, but you have typer 0.12.3 which is incompatible.\n",
            "weasel 0.3.4 requires typer<0.10.0,>=0.3.0, but you have typer 0.12.3 which is incompatible.\u001b[0m\u001b[31m\n",
            "\u001b[0m"
          ]
        }
      ],
      "source": [
        "# install packages\n",
        "!pip install -q gradio"
      ]
    },
    {
      "cell_type": "code",
      "execution_count": 3,
      "metadata": {
        "id": "vgqLDK0J5Lh4"
      },
      "outputs": [],
      "source": [
        "# import build-in libraris\n",
        "import os\n",
        "import zipfile\n",
        "\n",
        "# import 3rd-party libraris\n",
        "from tensorflow.keras.applications import ResNet50V2\n",
        "from tensorflow.keras.applications.resnet_v2 import preprocess_input\n",
        "from tensorflow.keras.layers import Dense\n",
        "from tensorflow.keras.models import Sequential\n",
        "from tensorflow.keras.preprocessing.image import load_img, img_to_array\n",
        "from tensorflow.keras.utils import to_categorical\n",
        "\n",
        "import gradio as gr\n",
        "import matplotlib.pyplot as plt\n",
        "import numpy as np\n",
        "import pandas as pd\n",
        "import PIL.Image as Image\n",
        "\n",
        "%matplotlib inline"
      ]
    },
    {
      "cell_type": "code",
      "execution_count": 15,
      "metadata": {
        "id": "hjZ5xdRV57Ia",
        "colab": {
          "base_uri": "https://localhost:8080/"
        },
        "outputId": "06ca6792-a5e0-43e2-aa9c-024acf748b21"
      },
      "outputs": [
        {
          "output_type": "stream",
          "name": "stdout",
          "text": [
            "Cloning into 'doggy_classification'...\n",
            "remote: Enumerating objects: 48, done.\u001b[K\n",
            "remote: Counting objects:  14% (1/7)\u001b[K\rremote: Counting objects:  28% (2/7)\u001b[K\rremote: Counting objects:  42% (3/7)\u001b[K\rremote: Counting objects:  57% (4/7)\u001b[K\rremote: Counting objects:  71% (5/7)\u001b[K\rremote: Counting objects:  85% (6/7)\u001b[K\rremote: Counting objects: 100% (7/7)\u001b[K\rremote: Counting objects: 100% (7/7), done.\u001b[K\n",
            "remote: Compressing objects: 100% (7/7), done.\u001b[K\n",
            "remote: Total 48 (delta 0), reused 6 (delta 0), pack-reused 41\u001b[K\n",
            "Receiving objects: 100% (48/48), 66.58 MiB | 35.92 MiB/s, done.\n"
          ]
        }
      ],
      "source": [
        "# clone dataset to local disk\n",
        "!git clone https://github.com/jill1209/doggy_classification.git\n",
        "\n",
        "# unzip file\n",
        "import zipfile\n",
        "with zipfile.ZipFile(\"/content/doggy_classification/dataset.zip\", 'r') as zip_ref:\n",
        "    zip_ref.extractall(\"/content/doggy_classification/\")"
      ]
    },
    {
      "cell_type": "code",
      "execution_count": 16,
      "metadata": {
        "id": "ElrkusW5IAP5",
        "colab": {
          "base_uri": "https://localhost:8080/"
        },
        "outputId": "d1d26274-ce1f-428f-e5d9-2e1cf68f55f3"
      },
      "outputs": [
        {
          "output_type": "execute_result",
          "data": {
            "text/plain": [
              "['Bichon 3.jpg',\n",
              " 'Pomeranian 5.jpg',\n",
              " 'Maltese 7.jpg',\n",
              " 'Bichon 6.jpg',\n",
              " 'Bichon 7.jpg',\n",
              " 'Bichon 10.jpg',\n",
              " 'Maltese 5.jpg',\n",
              " 'Maltese 8.jpg',\n",
              " 'Bichon 5.jpg',\n",
              " 'Pomeranian 1.png',\n",
              " 'Pomeranian 6.jpg',\n",
              " 'Maltese 1.png',\n",
              " ' Poodle 9.jpg',\n",
              " ' Poodle 6.jpg',\n",
              " 'Pomeranian 7.jpg',\n",
              " ' Poodle 7.jpg',\n",
              " ' Poodle 2.jpg',\n",
              " 'Pomeranian 9.jpg',\n",
              " 'Pomeranian 3.jpg',\n",
              " ' Poodle 4.jpg',\n",
              " 'Pomeranian 4.jpg',\n",
              " 'Maltese 3.jpg',\n",
              " 'Maltese 2.png',\n",
              " ' Poodle 5.jpg',\n",
              " 'Bichon 8.jpg',\n",
              " 'Pomeranian 2.png',\n",
              " 'Maltese 6.jpg',\n",
              " 'Maltese 4.jpg',\n",
              " 'Bichon 4.jpg',\n",
              " ' Poodle 10.jpg',\n",
              " 'Bichon 9.jpg',\n",
              " 'Pomeranian 8.jpg',\n",
              " ' Poodle 1.jpg',\n",
              " ' Poodle 3.jpg',\n",
              " 'Bichon 1.jpg',\n",
              " ' Poodle 8.jpg',\n",
              " 'Bichon 2.jpg']"
            ]
          },
          "metadata": {},
          "execution_count": 16
        }
      ],
      "source": [
        "dataset_root = \"/content/doggy_classification/dataset\"\n",
        "os.listdir(dataset_root)"
      ]
    },
    {
      "cell_type": "code",
      "execution_count": 17,
      "metadata": {
        "id": "BPDvRncx3RHI"
      },
      "outputs": [],
      "source": [
        "data = []\n",
        "target = []\n",
        "\n",
        "for file_name in os.listdir(dataset_root):\n",
        "    img_path = os.path.join(dataset_root, file_name)\n",
        "    img = load_img(img_path, target_size=(224,224))\n",
        "    x = img_to_array(img)\n",
        "    y = table_class_en2num[file_name.strip().split('.')[0].split(' ')[0]]\n",
        "    data.append(x)\n",
        "    target.append(y)"
      ]
    },
    {
      "cell_type": "code",
      "execution_count": 18,
      "metadata": {
        "id": "jJRJXwW03yzT"
      },
      "outputs": [],
      "source": [
        "data = np.array(data)\n",
        "x_train = preprocess_input(data)\n",
        "y_train = to_categorical(target, num_class)  # 做 one-hot enconding。"
      ]
    },
    {
      "cell_type": "markdown",
      "metadata": {
        "id": "Sftnku6_7Feg"
      },
      "source": [
        "### 3. 用 ResNet50 打造我們的神經網路\n",
        "\n",
        "ResNet50 是 2015 ImageNet 的冠軍, 我們用第二版來試試。原本 ImageNet 是做了 1,000 個類別的圖形辨識。我們想直接用來辨識八哥, 就是把最後一層 (通常就 1,000 個輸出的 dense 層) 砍掉 (`include_top=False`), 然後換我們的就好。\n",
        "\n",
        "再來我們可以把每個 filter 的結果做個大總合, 例如算每個 filter 計分板的總平均 (global average pooling), 這本來該我們自己做, 但是 `tf.Keras` 是善良無比的幫我們做好。只要下個參數 `pooling=\"avg\"`)。"
      ]
    },
    {
      "cell_type": "code",
      "execution_count": 19,
      "metadata": {
        "id": "PJYmHesHEbBo"
      },
      "outputs": [],
      "source": [
        "from tensorflow.keras.applications import ResNet50V2\n",
        "from tensorflow.keras.models import Sequential\n",
        "from tensorflow.keras.layers import Dense"
      ]
    },
    {
      "cell_type": "code",
      "execution_count": 20,
      "metadata": {
        "id": "1k8c9Y9_AyfC",
        "colab": {
          "base_uri": "https://localhost:8080/"
        },
        "outputId": "b58de12c-3248-4f8d-d154-c9c150701996"
      },
      "outputs": [
        {
          "output_type": "stream",
          "name": "stdout",
          "text": [
            "Downloading data from https://storage.googleapis.com/tensorflow/keras-applications/resnet/resnet50v2_weights_tf_dim_ordering_tf_kernels_notop.h5\n",
            "94668760/94668760 [==============================] - 0s 0us/step\n"
          ]
        }
      ],
      "source": [
        "resnet = ResNet50V2(include_top=False, pooling=\"avg\")"
      ]
    },
    {
      "cell_type": "markdown",
      "metadata": {
        "id": "9dmUXgR-UPNg"
      },
      "source": [
        "再來就是正式打造我們遷移學習版的函數學習機! 可以發現我們只是加入了最後一層..."
      ]
    },
    {
      "cell_type": "code",
      "execution_count": 21,
      "metadata": {
        "id": "2m6sfEs9A8xo",
        "colab": {
          "base_uri": "https://localhost:8080/"
        },
        "outputId": "4994d809-4eab-4a24-b397-4e4222a79192"
      },
      "outputs": [
        {
          "output_type": "stream",
          "name": "stdout",
          "text": [
            "Model: \"sequential\"\n",
            "_________________________________________________________________\n",
            " Layer (type)                Output Shape              Param #   \n",
            "=================================================================\n",
            " resnet50v2 (Functional)     (None, 2048)              23564800  \n",
            "                                                                 \n",
            " dense (Dense)               (None, 4)                 8196      \n",
            "                                                                 \n",
            "=================================================================\n",
            "Total params: 23572996 (89.92 MB)\n",
            "Trainable params: 8196 (32.02 KB)\n",
            "Non-trainable params: 23564800 (89.89 MB)\n",
            "_________________________________________________________________\n"
          ]
        }
      ],
      "source": [
        "model = Sequential()\n",
        "model.add(resnet)\n",
        "model.add(Dense(num_class, activation='softmax'))\n",
        "\n",
        "# 我們是遷移式學習, 原本 ResNet 的部份我們當然沒有重新訓練的意思。於是就設這邊不需要訓練。\n",
        "resnet.trainable = False\n",
        "\n",
        "# 欣賞我們的神經網路\n",
        "model.summary()"
      ]
    },
    {
      "cell_type": "code",
      "execution_count": 22,
      "metadata": {
        "id": "NoltdpL6Ea64"
      },
      "outputs": [],
      "source": [
        "# 組裝我們的函數學習機\n",
        "# 這裡我們用分類時非常標準的 categorical_crossentropy, 順便試試有名的 adam 學習法。\n",
        "model.compile(loss='categorical_crossentropy',\n",
        "              optimizer='adam',\n",
        "              metrics=['accuracy'])"
      ]
    },
    {
      "cell_type": "code",
      "execution_count": 23,
      "metadata": {
        "id": "VzTw2kZVEQir",
        "colab": {
          "base_uri": "https://localhost:8080/"
        },
        "outputId": "6205390c-2092-40e1-9d81-8ffd935405aa"
      },
      "outputs": [
        {
          "output_type": "stream",
          "name": "stdout",
          "text": [
            "Epoch 1/10\n",
            "2/2 [==============================] - 11s 722ms/step - loss: 1.5742 - accuracy: 0.4054\n",
            "Epoch 2/10\n",
            "2/2 [==============================] - 7s 718ms/step - loss: 1.1098 - accuracy: 0.4865\n",
            "Epoch 3/10\n",
            "2/2 [==============================] - 5s 662ms/step - loss: 0.8857 - accuracy: 0.6216\n",
            "Epoch 4/10\n",
            "2/2 [==============================] - 7s 718ms/step - loss: 0.7076 - accuracy: 0.7838\n",
            "Epoch 5/10\n",
            "2/2 [==============================] - 5s 730ms/step - loss: 0.5679 - accuracy: 0.8378\n",
            "Epoch 6/10\n",
            "2/2 [==============================] - 7s 1s/step - loss: 0.4495 - accuracy: 0.8919\n",
            "Epoch 7/10\n",
            "2/2 [==============================] - 5s 671ms/step - loss: 0.3722 - accuracy: 0.9189\n",
            "Epoch 8/10\n",
            "2/2 [==============================] - 6s 1s/step - loss: 0.3130 - accuracy: 0.9189\n",
            "Epoch 9/10\n",
            "2/2 [==============================] - 6s 700ms/step - loss: 0.2551 - accuracy: 0.9459\n",
            "Epoch 10/10\n",
            "2/2 [==============================] - 6s 663ms/step - loss: 0.2101 - accuracy: 0.9730\n"
          ]
        },
        {
          "output_type": "execute_result",
          "data": {
            "text/plain": [
              "<keras.src.callbacks.History at 0x7b65ab6bd630>"
            ]
          },
          "metadata": {},
          "execution_count": 23
        }
      ],
      "source": [
        "# 訓練 fit\n",
        "# model.fit(x_train, y_train, batch_size=10, epochs=10)\n",
        "model.fit(x_train, y_train, epochs=10)"
      ]
    },
    {
      "cell_type": "code",
      "execution_count": 24,
      "metadata": {
        "id": "NxZubjvmSdLE",
        "colab": {
          "base_uri": "https://localhost:8080/"
        },
        "outputId": "de5fd068-10b5-4ac4-be44-8dd3e7b36746"
      },
      "outputs": [
        {
          "output_type": "stream",
          "name": "stdout",
          "text": [
            "2/2 [==============================] - 8s 700ms/step - loss: 0.1869 - accuracy: 1.0000\n",
            "Loss: 0.1869032084941864\n",
            "Accuracy: 1.0\n",
            "2/2 [==============================] - 7s 684ms/step\n",
            "[0 3 1 0 0 0 1 1 0 3 3 1 2 2 3 2 2 3 3 2 3 1 1 2 0 3 1 1 0 2 0 3 2 2 0 2 0]\n",
            "[0, 3, 1, 0, 0, 0, 1, 1, 0, 3, 3, 1, 2, 2, 3, 2, 2, 3, 3, 2, 3, 1, 1, 2, 0, 3, 1, 1, 0, 2, 0, 3, 2, 2, 0, 2, 0]\n"
          ]
        }
      ],
      "source": [
        "# 預測\n",
        "# 我們先用 model.evaluate 看一下模型表現得如何\n",
        "loss, acc = model.evaluate(x_train, y_train)\n",
        "print(f\"Loss: {loss}\")\n",
        "print(f\"Accuracy: {acc}\")\n",
        "\n",
        "y_predict = np.argmax(model.predict(x_train), -1)\n",
        "print(y_predict)\n",
        "print(target)"
      ]
    },
    {
      "cell_type": "markdown",
      "metadata": {
        "id": "u84Ar-MJLFg1"
      },
      "source": [
        "### 6. 用 `gradio` 打造八哥辨識 web app!"
      ]
    },
    {
      "cell_type": "code",
      "execution_count": 25,
      "metadata": {
        "id": "w6LEonilILYG"
      },
      "outputs": [],
      "source": [
        "def resize_image(inp):\n",
        "    # 將 NumPy array 轉換成 PIL Image 對象\n",
        "    img = Image.fromarray(inp)\n",
        "\n",
        "    # 將圖片調整為 224x224 像素\n",
        "    img_resized = img.resize((224, 224), Image.Resampling.LANCZOS)\n",
        "\n",
        "    # 將調整大小後的圖片轉換回 NumPy array\n",
        "    img_array = np.array(img_resized)\n",
        "\n",
        "    return img_array"
      ]
    },
    {
      "cell_type": "code",
      "execution_count": 26,
      "metadata": {
        "id": "LneH4aAKGsef"
      },
      "outputs": [],
      "source": [
        "def classify_image(inp):\n",
        "    img_array = resize_image(inp)\n",
        "    inp = img_array.reshape((1, 224, 224, 3))\n",
        "    inp = preprocess_input(inp)\n",
        "    prediction = model.predict(inp).flatten()\n",
        "    return {table_class_en2ch[table_class_num2en[i]]: float(prediction[i]) for i in range(num_class)}"
      ]
    },
    {
      "cell_type": "code",
      "execution_count": 27,
      "metadata": {
        "id": "8xghCcZeUQLs"
      },
      "outputs": [],
      "source": [
        "image = gr.Image(label=\"狗狗照片\")\n",
        "label = gr.Label(num_top_classes=num_class, label=\"AI辨識結果\")"
      ]
    },
    {
      "cell_type": "code",
      "execution_count": 28,
      "metadata": {
        "id": "WyJpaFr1VM5K"
      },
      "outputs": [],
      "source": [
        "# 我們將狗狗數據庫中的圖片拿出來當作範例圖片讓使用者使用\n",
        "sample_images = []\n",
        "for file_name in os.listdir(dataset_root):\n",
        "    # thedir = base_dir + categories[i]\n",
        "    # for fname in os.listdir(thedir):\n",
        "    sample_images.append(os.path.join(dataset_root, file_name))"
      ]
    },
    {
      "cell_type": "markdown",
      "metadata": {
        "id": "nsgx2gpUCr8w"
      },
      "source": [
        "最後，將所有東西組裝在一起，就大功告成了！"
      ]
    },
    {
      "cell_type": "code",
      "execution_count": null,
      "metadata": {
        "colab": {
          "base_uri": "https://localhost:8080/",
          "height": 590
        },
        "id": "M3eOTQqcHE6h",
        "outputId": "aaa5da79-bc26-42f7-f6eb-d8d9c659b51a"
      },
      "outputs": [
        {
          "output_type": "stream",
          "name": "stdout",
          "text": [
            "Colab notebook detected. This cell will run indefinitely so that you can see errors and logs. To turn off, set debug=False in launch().\n",
            "Running on public URL: https://aaf3e2b058804b9fa1.gradio.live\n",
            "\n",
            "This share link expires in 72 hours. For free permanent hosting and GPU upgrades, run `gradio deploy` from Terminal to deploy to Spaces (https://huggingface.co/spaces)\n"
          ]
        },
        {
          "output_type": "display_data",
          "data": {
            "text/plain": [
              "<IPython.core.display.HTML object>"
            ],
            "text/html": [
              "<div><iframe src=\"https://aaf3e2b058804b9fa1.gradio.live\" width=\"100%\" height=\"500\" allow=\"autoplay; camera; microphone; clipboard-read; clipboard-write;\" frameborder=\"0\" allowfullscreen></iframe></div>"
            ]
          },
          "metadata": {}
        }
      ],
      "source": [
        "gr.Interface(fn=classify_image,\n",
        "             inputs=image,\n",
        "             outputs=label,\n",
        "             title=title,\n",
        "             description=description,\n",
        "             examples=sample_images,\n",
        "             examples_per_page=len(os.listdir(dataset_root))).launch(debug=True, share=True)"
      ]
    },
    {
      "cell_type": "code",
      "execution_count": null,
      "metadata": {
        "id": "DHdlf-e8-Aa8"
      },
      "outputs": [],
      "source": []
    }
  ],
  "metadata": {
    "accelerator": "GPU",
    "colab": {
      "provenance": []
    },
    "kernelspec": {
      "display_name": "Python 3",
      "name": "python3"
    },
    "language_info": {
      "name": "python"
    }
  },
  "nbformat": 4,
  "nbformat_minor": 0
}